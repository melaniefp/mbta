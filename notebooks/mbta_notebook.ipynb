{
 "cells": [
  {
   "cell_type": "code",
   "execution_count": 1,
   "metadata": {},
   "outputs": [],
   "source": [
    "import requests\n",
    "import json\n",
    "import os\n",
    "import sys\n",
    "import pdb"
   ]
  },
  {
   "cell_type": "code",
   "execution_count": 2,
   "metadata": {},
   "outputs": [],
   "source": [
    "# global names\n",
    "API_ROUTES = 'https://api-v3.mbta.com/routes'\n",
    "API_STOPS = 'https://api-v3.mbta.com/stops'\n",
    "API_LINES = 'https://api-v3.mbta.com/lines'"
   ]
  },
  {
   "cell_type": "markdown",
   "metadata": {},
   "source": [
    "### Playing around"
   ]
  },
  {
   "cell_type": "code",
   "execution_count": 3,
   "metadata": {},
   "outputs": [
    {
     "data": {
      "text/plain": [
       "dict_keys(['data', 'jsonapi'])"
      ]
     },
     "execution_count": 3,
     "metadata": {},
     "output_type": "execute_result"
    }
   ],
   "source": [
    "params = {'filter[type]':0}\n",
    "response = requests.get(API_ROUTES)\n",
    "response.json().keys()"
   ]
  },
  {
   "cell_type": "code",
   "execution_count": 4,
   "metadata": {},
   "outputs": [
    {
     "data": {
      "text/plain": [
       "{'attributes': {'color': 'DA291C',\n",
       "  'description': 'Rapid Transit',\n",
       "  'direction_destinations': ['Ashmont/Braintree', 'Alewife'],\n",
       "  'direction_names': ['South', 'North'],\n",
       "  'fare_class': 'Rapid Transit',\n",
       "  'long_name': 'Red Line',\n",
       "  'short_name': '',\n",
       "  'sort_order': 10010,\n",
       "  'text_color': 'FFFFFF',\n",
       "  'type': 1},\n",
       " 'id': 'Red',\n",
       " 'links': {'self': '/routes/Red'},\n",
       " 'relationships': {'line': {'data': {'id': 'line-Red', 'type': 'line'}},\n",
       "  'route_patterns': {}},\n",
       " 'type': 'route'}"
      ]
     },
     "execution_count": 4,
     "metadata": {},
     "output_type": "execute_result"
    }
   ],
   "source": [
    "data = response.json()['data']\n",
    "data[0]"
   ]
  },
  {
   "cell_type": "code",
   "execution_count": 5,
   "metadata": {},
   "outputs": [
    {
     "data": {
      "text/plain": [
       "192"
      ]
     },
     "execution_count": 5,
     "metadata": {},
     "output_type": "execute_result"
    }
   ],
   "source": [
    "len(data)"
   ]
  },
  {
   "cell_type": "markdown",
   "metadata": {},
   "source": [
    "## Question 1\n",
    "\n",
    "Write a program that retrieves data representing all, what we'll call \"subway\" routes: \"Light Rail\"\n",
    "(type 0) and “Heavy Rail” (type 1). The program should list their “long names” on the console."
   ]
  },
  {
   "cell_type": "code",
   "execution_count": 6,
   "metadata": {},
   "outputs": [],
   "source": [
    "def get_subway_routes(rail_type):\n",
    "    \n",
    "    params = {'filter[type]':rail_type}\n",
    "    response = requests.get(API_ROUTES,params)\n",
    "    \n",
    "    routes = []\n",
    "    for _,data in enumerate(response.json()['data']):\n",
    "        routes.append(data['attributes']['long_name'])\n",
    "    routes = list(set(routes))\n",
    "    return routes\n",
    "\n",
    "def print_subway_routes():\n",
    "    ''' 0: \"Light Rail\" , 1: “Heavy Rail” '''\n",
    "    \n",
    "    lightRoutes = get_subway_routes(0)\n",
    "    heavyRoutes = get_subway_routes(1)\n",
    "    print( ', '.join(lightRoutes+heavyRoutes) )"
   ]
  },
  {
   "cell_type": "code",
   "execution_count": 7,
   "metadata": {},
   "outputs": [
    {
     "name": "stdout",
     "output_type": "stream",
     "text": [
      "Green Line B, Green Line C, Green Line E, Green Line D, Mattapan Trolley, Blue Line, Red Line, Orange Line\n"
     ]
    }
   ],
   "source": [
    "print_subway_routes()"
   ]
  },
  {
   "cell_type": "markdown",
   "metadata": {},
   "source": [
    "**TODO**: Rather than just saving long_name, save all useful information about routes, create a Route class for that"
   ]
  },
  {
   "cell_type": "markdown",
   "metadata": {},
   "source": [
    "## Question 2\n",
    "\n",
    "Extend your program so it displays the following additional information.\n",
    "1. The name of the subway route with the most stops as well as a count of its stops.\n",
    "2. The name of the subway route with the fewest stops as well as a count of its stops.\n",
    "3. A list of the stops that connect two or more subway routes along with the relevant route names for each of those stops."
   ]
  },
  {
   "cell_type": "code",
   "execution_count": 8,
   "metadata": {},
   "outputs": [],
   "source": [
    "# the following would not be necessary if Route data stored before\n",
    "# TODO: use register decorator\n",
    "\n",
    "def get_subway_route_ids():\n",
    "    ''' 0: \"Light Rail\" , 1: “Heavy Rail” '''\n",
    "    routeIds = []\n",
    "    for rail_type in range(2):\n",
    "        params = {'filter[type]':rail_type}\n",
    "        response = requests.get(API_ROUTES,params)\n",
    "        for _,data in enumerate(response.json()['data']):\n",
    "            routeIds.append(data['id'])\n",
    "    routeIds = list(set(routeIds))\n",
    "    return routeIds"
   ]
  },
  {
   "cell_type": "code",
   "execution_count": 9,
   "metadata": {},
   "outputs": [
    {
     "data": {
      "text/plain": [
       "8"
      ]
     },
     "execution_count": 9,
     "metadata": {},
     "output_type": "execute_result"
    }
   ],
   "source": [
    "routeIds = get_subway_route_ids()\n",
    "len(routeIds)"
   ]
  },
  {
   "cell_type": "code",
   "execution_count": 10,
   "metadata": {},
   "outputs": [],
   "source": [
    "from collections import namedtuple\n",
    "\n",
    "Stop = namedtuple('Stop','stopId name route')\n",
    "\n",
    "class Route:\n",
    "    def __init__(self,routeId,stops):\n",
    "        self.stops = stops\n",
    "        self.routeId = routeId\n",
    "\n",
    "def extract_stops_from_json(jsonResponse):\n",
    "    stops = []\n",
    "    for _,jsonStop in enumerate(jsonResponse):\n",
    "        name = jsonStop['attributes']['name']\n",
    "        stopId = jsonStop['id']\n",
    "        # TODO: what if multiple routes associated to same stop?\n",
    "        # tried, only 1 route appears even if stops connect w\n",
    "        # other routes\n",
    "        route = jsonStop['relationships']['route']['data']['id']\n",
    "        stop = Stop(stopId,name,route)\n",
    "        stops.append(stop)\n",
    "    return stops"
   ]
  },
  {
   "cell_type": "code",
   "execution_count": 11,
   "metadata": {},
   "outputs": [],
   "source": [
    "# generate a list of routes\n",
    "# each route is just an object with list of stops as attribute\n",
    "\n",
    "routes = []\n",
    "allStops = []\n",
    "for _,routeId in enumerate(routeIds):\n",
    "    \n",
    "    # retrieve stops for a particular route\n",
    "    params = {'filter[route]': routeId, 'include': 'route'}\n",
    "    response = requests.get(API_STOPS,params)\n",
    "    stops = extract_stops_from_json(response.json()['data'])\n",
    "    routes.append(Route(routeId, stops))\n",
    "    allStops += stops"
   ]
  },
  {
   "cell_type": "code",
   "execution_count": 12,
   "metadata": {},
   "outputs": [
    {
     "name": "stdout",
     "output_type": "stream",
     "text": [
      "Route Green-E   : 20 stops\n",
      "Route Mattapan  :  8 stops\n",
      "Route Green-B   : 24 stops\n",
      "Route Green-D   : 20 stops\n",
      "Route Red       : 22 stops\n",
      "Route Blue      : 12 stops\n",
      "Route Green-C   : 22 stops\n",
      "Route Orange    : 20 stops\n"
     ]
    }
   ],
   "source": [
    "# print nr. of stops for all routes\n",
    "\n",
    "for _,route in enumerate(routes):\n",
    "    print('Route {:10s}: {:2d} stops'.format(route.routeId,len(route.stops)))"
   ]
  },
  {
   "cell_type": "markdown",
   "metadata": {},
   "source": [
    "### List stops with multiple routes associated"
   ]
  },
  {
   "cell_type": "code",
   "execution_count": 13,
   "metadata": {},
   "outputs": [],
   "source": [
    "stopNames = [x.name for x in allStops]\n",
    "stopIds =  [x.stopId for x in allStops]\n",
    "stopRoutes = [x.route for x in allStops]"
   ]
  },
  {
   "cell_type": "code",
   "execution_count": 14,
   "metadata": {},
   "outputs": [
    {
     "name": "stdout",
     "output_type": "stream",
     "text": [
      "[('Park Street', 5), ('Copley', 4), ('Arlington', 4), ('Boylston', 4), ('Government Center', 4), ('Haymarket', 3), ('North Station', 3), ('Kenmore', 3), ('Hynes Convention Center', 3), ('Ashmont', 2), ('Saint Paul Street', 2), ('Downtown Crossing', 2), ('State', 2)]\n"
     ]
    }
   ],
   "source": [
    "from collections import Counter\n",
    "stopTuples = Counter(stopNames).most_common()\n",
    "\n",
    "hubStops = [x for x in stopTuples if x[1] > 1]\n",
    "print(hubStops)"
   ]
  },
  {
   "cell_type": "code",
   "execution_count": 15,
   "metadata": {},
   "outputs": [
    {
     "name": "stdout",
     "output_type": "stream",
     "text": [
      "place-pktrm Park Street               Green-E, Green-B, Green-D, Red, Green-C\n",
      "place-coecl Copley                    Green-E, Green-B, Green-D, Green-C\n",
      "place-armnl Arlington                 Green-E, Green-B, Green-D, Green-C\n",
      "place-boyls Boylston                  Green-E, Green-B, Green-D, Green-C\n",
      "place-gover Government Center         Green-E, Green-D, Blue, Green-C\n",
      "place-haecl Haymarket                 Green-E, Green-C, Orange\n",
      "place-north North Station             Green-E, Green-C, Orange\n",
      "place-kencl Kenmore                   Green-B, Green-D, Green-C\n",
      "place-hymnl Hynes Convention Center   Green-B, Green-D, Green-C\n",
      "place-asmnl Ashmont                   Mattapan, Red\n",
      "place-stplb Saint Paul Street         Green-B, Green-C\n",
      "place-dwnxg Downtown Crossing         Red, Orange\n",
      "place-state State                     Blue, Orange\n"
     ]
    }
   ],
   "source": [
    "for i,stopTuple in enumerate(hubStops):\n",
    "    stopName = stopTuple[0]\n",
    "    idxs = [i for i, x in enumerate(stopNames) if x == stopName]\n",
    "    routes = [stopRoutes[i] for i in idxs]\n",
    "    stopId = stopIds[ stopNames.index(stopName) ]\n",
    "    print('{:10s} {:25s} {}'.format(stopId,stopName,', '.join(routes)))"
   ]
  },
  {
   "cell_type": "markdown",
   "metadata": {},
   "source": [
    "## Question 3:\n",
    "Extend your program again such that the user can provide any two stops on the subway routes you listed for question 1.\n",
    "\n",
    "List a rail route you could travel to get from one stop to the other.\n",
    "\n",
    "We will not evaluate your solution based upon the efficiency or cleverness of your route-finding solution. Pick a simple solution that answers the question. We will want you to understand and be able to explain how your algorithm performs.\n",
    "Examples:\n",
    "1. Davis to Kendall -> Redline\n",
    "2. Ashmont to Arlington -> Redline, Greenline"
   ]
  },
  {
   "cell_type": "code",
   "execution_count": 16,
   "metadata": {},
   "outputs": [],
   "source": [
    "class Stop():\n",
    "    \n",
    "    def __init__(self):\n",
    "        return\n",
    "    \n",
    "    def get_routes(self):\n",
    "        return\n",
    "        \n",
    "class Route:\n",
    "    def __init__(self,routeId,stops):\n",
    "        self.stops = stops\n",
    "        self.routeId = routeId\n",
    "        \n",
    "    def get_connected_routes():\n",
    "        connectedRoutes = []\n",
    "        for _,stop in enumerate(self.stops):\n",
    "            routes = stop.get_routes()\n",
    "            connectedRoutes.append(routes)\n",
    "        connectedRoutes = list(set(connectedRoutes))\n",
    "        return connectedRoutes\n",
    "\n",
    "class ContainerOfTravels():\n",
    "    ''' Container with all travel candidates '''\n",
    "    \n",
    "    def __init__(self):\n",
    "        self.travels = []\n",
    "    \n",
    "    @property\n",
    "    def length(self): return len(self.travels)\n",
    "    \n",
    "    def pop(self):\n",
    "        return self.travels.pop(0)\n",
    "    \n",
    "    def add(self,travels):\n",
    "        for travel in travels:\n",
    "            self.append(travel)\n",
    "\n",
    "    def update(self,travel):\n",
    "        ''' update travel candidates by expanding current travel '''\n",
    "        extendedTravels = travel.extend_travel()\n",
    "        selected = self.select(extendedTravels)\n",
    "        for i,travel in enumerate(extendedTravels):\n",
    "            if selected[i] == True: self.add(travel)\n",
    "    \n",
    "    def is_empty(self):\n",
    "        return (len(self.travels) == 0)\n",
    "    \n",
    "    def select(self,travels):\n",
    "        ''' check which travels should be added to container '''\n",
    "        selected = []\n",
    "        allRoutes = self._get_all_routes()\n",
    "        for travel in travels:\n",
    "            if (travel.hasLoop() or self._isValid(travel)):\n",
    "                selected.append(False)\n",
    "            else:\n",
    "                selected.append(True)\n",
    "    \n",
    "    def _get_all_routes(self):\n",
    "        ''' which routes are present in container '''\n",
    "        allRoutes = []\n",
    "        for travel in self.travels:\n",
    "            routes = travel.get_routes()\n",
    "            allRoutes.append(routes)\n",
    "        return set(allRoutes)\n",
    "    \n",
    "    def _isValid(self,travel):\n",
    "        ''' an invalid travel reaches a route previously\n",
    "        visited in the past '''\n",
    "        allRoutes = self._get_all_routes()\n",
    "        if (travel.get_last() in allRoutes): return False\n",
    "        else: return True\n",
    "    \n",
    "class Travel(object):\n",
    "    \n",
    "    def __init__(self):\n",
    "        self.routes = []\n",
    "    \n",
    "    def copy(self):\n",
    "        travel = Travel()\n",
    "        travel.routes = self.routes.copy()\n",
    "        \n",
    "    def add(self,route):\n",
    "        self.routes.append(route)\n",
    "        \n",
    "    def reaches(destinationRoute):\n",
    "        try:\n",
    "            return (self.get_last() == destinationRoute)\n",
    "        except:\n",
    "            return False\n",
    "    \n",
    "    def get_last(): return self.routes[-1]        \n",
    "        \n",
    "    def extend_travel(self):\n",
    "        \n",
    "        lastRoute = travel.get_last()\n",
    "        routes = lastRoute.get_connected_routes()\n",
    "        \n",
    "        extendedTravels = []\n",
    "        for _,route in enumerate(routes):\n",
    "            travel = self.copy()\n",
    "            travel.add(route)\n",
    "            extendedTravels.append(extendedTravels)\n",
    "\n",
    "        return extendedTravels\n",
    "        \n",
    "    def get_routes():\n",
    "        return\n",
    "        \n",
    "\n",
    "MAX_TRAVEL_CANDIDATES = 100\n",
    "\n",
    "def get_travel(originStop,destinationStop):\n",
    "    \n",
    "    originRoutes = originStop.get_routes()\n",
    "    destinationRoutes = destinationStop.get_routes()\n",
    "    \n",
    "    travelCandidates = ContainerOfTravels()\n",
    "    initTravel = Travel(originRoute)\n",
    "    travelCandidates.add(initTravel)\n",
    "    \n",
    "    while not(travelCandidates.isEmpty()):\n",
    "        \n",
    "        travel = travelCandidates.pop()\n",
    "        \n",
    "        if travel.reaches(destinationRoute): return travel\n",
    "        \n",
    "        travelCandidates.expand(travel) # add more candidates\n",
    "        \n",
    "        if travelCandidates.length > MAX_TRAVEL_CANDIDATES:\n",
    "            raise ValueError('Too many travel candidates')\n",
    "    \n",
    "    print('Destination: {} cannot be reached from Origin: {}')\n",
    "    \n",
    "    return Travel()"
   ]
  },
  {
   "cell_type": "code",
   "execution_count": null,
   "metadata": {},
   "outputs": [],
   "source": []
  }
 ],
 "metadata": {
  "kernelspec": {
   "display_name": "Python 3",
   "language": "python",
   "name": "python3"
  },
  "language_info": {
   "codemirror_mode": {
    "name": "ipython",
    "version": 3
   },
   "file_extension": ".py",
   "mimetype": "text/x-python",
   "name": "python",
   "nbconvert_exporter": "python",
   "pygments_lexer": "ipython3",
   "version": "3.6.9"
  }
 },
 "nbformat": 4,
 "nbformat_minor": 2
}
